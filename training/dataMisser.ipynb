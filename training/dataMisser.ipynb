{
 "cells": [
  {
   "cell_type": "code",
   "execution_count": 1,
   "execution_count": 5,
   "metadata": {},
   "outputs": [
    {
     "data": {
      "text/plain": [
       "'online_gaming_missing.csv'"
      ]
     },
     "execution_count": 5,
     "metadata": {},
     "output_type": "execute_result"
    }
   ],
   "source": [
    "import pandas as pd\n",
    "import numpy as np\n",
    "\n",
    "# Load dataset\n",
    "file_path = \"online_gaming_behavior_dataset.csv\"\n",
    "df = pd.read_csv(file_path)\n",
    "\n",
    "# Set a percentage of missing values (e.g., 10% of the data)\n",
    "missing_percentage = 0.15\n",
    "num_missing = int(missing_percentage * df.size)\n",
    "\n",
    "# Randomly select positions to set as NaN\n",
    "np.random.seed(42)  # For reproducibility\n",
    "missing_indices = [(row, col) for row in range(df.shape[0]) for col in range(df.shape[1])]\n",
    "missing_indices = np.random.choice(len(missing_indices), num_missing, replace=False)\n",
    "\n",
    "for idx in missing_indices:\n",
    "    row, col = divmod(idx, df.shape[1])\n",
    "    df.iat[row, col] = np.nan\n",
    "\n",
    "# Save the modified dataset\n",
    "modified_file_path = \"online_gaming_missing.csv\"\n",
    "df.to_csv(modified_file_path, index=False)\n",
    "\n",
    "# Return the path of the modified file\n",
    "modified_file_path\n"
   ]
  }
 ],
 "metadata": {
  "kernelspec": {
   "display_name": ".conda",
   "language": "python",
   "name": "python3"
  },
  "language_info": {
   "codemirror_mode": {
    "name": "ipython",
    "version": 3
   },
   "file_extension": ".py",
   "mimetype": "text/x-python",
   "name": "python",
   "nbconvert_exporter": "python",
   "pygments_lexer": "ipython3",
   "version": "3.10.16"
  }
 },
 "nbformat": 4,
 "nbformat_minor": 2
}
